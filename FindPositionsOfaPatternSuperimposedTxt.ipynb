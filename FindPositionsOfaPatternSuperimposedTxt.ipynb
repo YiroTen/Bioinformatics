{
 "cells": [
  {
   "cell_type": "code",
   "execution_count": 3,
   "metadata": {},
   "outputs": [
    {
     "name": "stdout",
     "output_type": "stream",
     "text": [
      "Posiciones del patrón en el genoma se han guardado en el archivo de salida: /home/mac/Descargas/BIOINFORMATICS_UCSF/Week1/positions.txt\n"
     ]
    }
   ],
   "source": [
    "def find_pattern_positions(Pattern, Genome):\n",
    "    positions = []\n",
    "    pattern_length = len(Pattern)\n",
    "    genome_length = len(Genome)\n",
    "\n",
    "    for i in range(genome_length - pattern_length + 1):\n",
    "        if Genome[i:i + pattern_length] == Pattern:\n",
    "            positions.append(i + 0)  # Adding 1 to make positions 1-based\n",
    "\n",
    "    return positions\n",
    "\n",
    "# Leer el patrón desde un archivo de entrada\n",
    "Pattern = \"CTTGATCAT\"  # Patrón a buscar\n",
    "\n",
    "# Leer el genoma desde un archivo de entrada\n",
    "Genome_file = \"/home/mac/Descargas/BIOINFORMATICS_UCSF/Week1/Vibrio_cholerae.txt\"\n",
    "with open(Genome_file, 'r') as file:\n",
    "    Genome = file.read()\n",
    "\n",
    "# Encontrar las posiciones\n",
    "positions = find_pattern_positions(Pattern, Genome)\n",
    "\n",
    "# Guardar las posiciones en un archivo de salida\n",
    "Output_file = \"/home/mac/Descargas/BIOINFORMATICS_UCSF/Week1/positions.txt\"\n",
    "with open(Output_file, 'w') as file:\n",
    "    file.write(\" \".join(map(str, positions)))\n",
    "\n",
    "#print(\"Secuencia de ADN original:\", Genome)\n",
    "#print(\"Patrón a buscar:\", Pattern)\n",
    "print(\"Posiciones del patrón en el genoma se han guardado en el archivo de salida:\", Output_file)\n",
    "\n"
   ]
  }
 ],
 "metadata": {
  "kernelspec": {
   "display_name": "Python 3.10.12 64-bit",
   "language": "python",
   "name": "python3"
  },
  "language_info": {
   "codemirror_mode": {
    "name": "ipython",
    "version": 3
   },
   "file_extension": ".py",
   "mimetype": "text/x-python",
   "name": "python",
   "nbconvert_exporter": "python",
   "pygments_lexer": "ipython3",
   "version": "3.10.12"
  },
  "orig_nbformat": 4,
  "vscode": {
   "interpreter": {
    "hash": "916dbcbb3f70747c44a77c7bcd40155683ae19c65e1c03b4aa3499c5328201f1"
   }
  }
 },
 "nbformat": 4,
 "nbformat_minor": 2
}
