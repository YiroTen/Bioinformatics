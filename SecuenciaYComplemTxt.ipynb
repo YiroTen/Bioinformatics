{
 "cells": [
  {
   "cell_type": "code",
   "execution_count": 4,
   "metadata": {},
   "outputs": [
    {
     "name": "stdout",
     "output_type": "stream",
     "text": [
      "El complemento se ha guardado en el archivo de salida: /home/mac/Descargas/BIOINFORMATICS_UCSF/Week1/complemento.txt\n",
      "El complemento reverso se ha guardado en el archivo de salida: /home/mac/Descargas/BIOINFORMATICS_UCSF/Week1/complemento_rev.txt\n"
     ]
    }
   ],
   "source": [
    "def complemento_secuencia_adn(secuencia):\n",
    "    complemento = \"\"\n",
    "    for base in secuencia:\n",
    "        if base == 'A':\n",
    "            complemento += 'T'\n",
    "        elif base == 'T':\n",
    "            complemento += 'A'\n",
    "        elif base == 'C':\n",
    "            complemento += 'G'\n",
    "        elif base == 'G':\n",
    "            complemento += 'C'\n",
    "        else:\n",
    "            complemento += base  # Mantener cualquier otro carácter intacto\n",
    "    return complemento\n",
    "\n",
    "# Leer la secuencia de ADN desde un archivo de entrada\n",
    "archivo_entrada = \"/home/mac/Descargas/BIOINFORMATICS_UCSF/Week1/try.txt\"\n",
    "with open(archivo_entrada, 'r') as file:\n",
    "    secuencia = file.read()\n",
    "\n",
    "# Calcular el complemento\n",
    "complemento = complemento_secuencia_adn(secuencia)\n",
    "\n",
    "# Calcula el reverso del complemento\n",
    "complemento_reverso = complemento[::-1]\n",
    "\n",
    "# Guardar el complemento en un archivo txt, lo guarda en home si no se indica ruta\n",
    "archivo_salida = \"/home/mac/Descargas/BIOINFORMATICS_UCSF/Week1/complemento.txt\"\n",
    "with open(archivo_salida, 'w') as file:\n",
    "    file.write(complemento)\n",
    "\n",
    "# Guarda el complemento reverso en un archivo txt, lo guarda en home si no se indica ruta \n",
    "archivo_salida2 = \"/home/mac/Descargas/BIOINFORMATICS_UCSF/Week1/complemento_rev.txt\"\n",
    "with open(archivo_salida2, 'w') as file:\n",
    "    file.write(complemento_reverso)\n",
    "\n",
    "#print(\"Complemento reverso de la secuencia de ADN:\", complemento_reverso)\n",
    "#print(\"Secuencia de ADN original:\", secuencia)\n",
    "#print(\"Complemento de la secuencia de ADN:\", complemento)\n",
    "print(\"El complemento se ha guardado en el archivo de salida:\", archivo_salida)\n",
    "print(\"El complemento reverso se ha guardado en el archivo de salida:\", archivo_salida2)\n"
   ]
  }
 ],
 "metadata": {
  "kernelspec": {
   "display_name": "Python 3.10.12 64-bit",
   "language": "python",
   "name": "python3"
  },
  "language_info": {
   "codemirror_mode": {
    "name": "ipython",
    "version": 3
   },
   "file_extension": ".py",
   "mimetype": "text/x-python",
   "name": "python",
   "nbconvert_exporter": "python",
   "pygments_lexer": "ipython3",
   "version": "3.10.12"
  },
  "orig_nbformat": 4,
  "vscode": {
   "interpreter": {
    "hash": "916dbcbb3f70747c44a77c7bcd40155683ae19c65e1c03b4aa3499c5328201f1"
   }
  }
 },
 "nbformat": 4,
 "nbformat_minor": 2
}
