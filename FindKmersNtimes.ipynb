{
 "cells": [
  {
   "cell_type": "code",
   "execution_count": 1,
   "metadata": {},
   "outputs": [],
   "source": [
    "from collections import defaultdict\n",
    "\n",
    "def find_repeated_sequences(text, k, L, t):\n",
    "    sequences = defaultdict(list)\n",
    "    \n",
    "    for i in range(len(text) - L + 1):\n",
    "        window = text[i:i+L]\n",
    "        sequence_counts = defaultdict(int)\n",
    "        \n",
    "        for j in range(0, L - k + 1, k):\n",
    "            sequence = window[j:j+k]\n",
    "            sequence_counts[sequence] += 1\n",
    "        \n",
    "        for sequence, count in sequence_counts.items():\n",
    "            if count >= t and sequence not in sequences:\n",
    "                sequences[sequence].append(i)\n",
    "    \n",
    "    repeated_sequences = {seq: positions for seq, positions in sequences.items() if len(positions) >= t}\n",
    "    return repeated_sequences\n",
    "\n",
    "# Sample Input\n",
    "text = \"CGGACTCGACAGATGTGAAGAACGACAATGTGAAGACTCGACACGACAGAGTGAAGAGAAGAGGAAACATTGTAA\"\n",
    "k = 5\n",
    "L = 50\n",
    "t = 4\n",
    "\n",
    "# Find repeated sequences\n",
    "repeated_sequences = find_repeated_sequences(text, k, L, t)\n",
    "\n",
    "# Print the repeated sequences and their positions\n",
    "for sequence, positions in repeated_sequences.items():\n",
    "    #print(\"Sequence: {sequence}, Repeated {len(positions)} times at positions: {positions}\")\n",
    "    print(repeated_sequences)\n"
   ]
  }
 ],
 "metadata": {
  "kernelspec": {
   "display_name": "Python 3.9.13 ('AmberTools21')",
   "language": "python",
   "name": "python3"
  },
  "language_info": {
   "codemirror_mode": {
    "name": "ipython",
    "version": 3
   },
   "file_extension": ".py",
   "mimetype": "text/x-python",
   "name": "python",
   "nbconvert_exporter": "python",
   "pygments_lexer": "ipython3",
   "version": "3.9.13"
  },
  "orig_nbformat": 4,
  "vscode": {
   "interpreter": {
    "hash": "3dcc994cbc2c0eefeb47a2349a83f6468b3de82dfa6b208fa2dbec073aba3e00"
   }
  }
 },
 "nbformat": 4,
 "nbformat_minor": 2
}
