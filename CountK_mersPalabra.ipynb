{
 "cells": [
  {
   "cell_type": "code",
   "execution_count": 2,
   "metadata": {},
   "outputs": [
    {
     "name": "stdout",
     "output_type": "stream",
     "text": [
      "Most frequent 4-letter sequences in the text:\n",
      "gcat: 3 times\n",
      "catg: 3 times\n",
      "tgca: 2 times\n",
      "atga: 2 times\n",
      "acgt: 1 times\n",
      "cgtt: 1 times\n",
      "gttg: 1 times\n",
      "ttgc: 1 times\n",
      "atgt: 1 times\n",
      "tgtc: 1 times\n",
      "gtcg: 1 times\n",
      "tcgc: 1 times\n",
      "cgca: 1 times\n",
      "tgat: 1 times\n",
      "gatg: 1 times\n",
      "atgc: 1 times\n",
      "tgag: 1 times\n",
      "gaga: 1 times\n",
      "agag: 1 times\n",
      "gagc: 1 times\n",
      "agct: 1 times\n"
     ]
    }
   ],
   "source": [
    "from collections import Counter\n",
    "import re\n",
    "\n",
    "def find_most_frequent_ngrams(text, n):\n",
    "    # Remove punctuation and convert text to lowercase\n",
    "    text = re.sub(r'[^\\w\\s]', '', text).lower()\n",
    "    \n",
    "    # Split text into words\n",
    "    words = text.split()\n",
    "\n",
    "    # Initialize a dictionary to store n-grams and their counts\n",
    "    ngram_counts = {}\n",
    "\n",
    "    # Iterate through the words and count n-grams\n",
    "    for word in words:\n",
    "        for i in range(len(word) - n + 1):\n",
    "            ngram = word[i:i + n]\n",
    "            if ngram in ngram_counts:\n",
    "                ngram_counts[ngram] += 1\n",
    "            else:\n",
    "                ngram_counts[ngram] = 1\n",
    "\n",
    "    # Sort the n-grams by count in descending order\n",
    "    sorted_ngrams = sorted(ngram_counts.items(), key=lambda x: x[1], reverse=True)\n",
    "\n",
    "    return sorted_ngrams\n",
    "\n",
    "# Input text or provide the route to the file \n",
    "text = \"ACGTTGCATGTCGCATGATGCATGAGAGCT\"\n",
    "\n",
    "# Specify the n for n-grams\n",
    "n = 4\n",
    "\n",
    "# Find and display the most frequent n-grams\n",
    "most_frequent_ngrams = find_most_frequent_ngrams(text, n)\n",
    "print(f\"Most frequent {n}-letter sequences in the text:\")\n",
    "for ngram, count in most_frequent_ngrams:\n",
    "    print(f\"{ngram}: {count} times\")\n",
    "\n"
   ]
  }
 ],
 "metadata": {
  "kernelspec": {
   "display_name": "Python 3.10.12 64-bit",
   "language": "python",
   "name": "python3"
  },
  "language_info": {
   "codemirror_mode": {
    "name": "ipython",
    "version": 3
   },
   "file_extension": ".py",
   "mimetype": "text/x-python",
   "name": "python",
   "nbconvert_exporter": "python",
   "pygments_lexer": "ipython3",
   "version": "3.10.12"
  },
  "orig_nbformat": 4,
  "vscode": {
   "interpreter": {
    "hash": "916dbcbb3f70747c44a77c7bcd40155683ae19c65e1c03b4aa3499c5328201f1"
   }
  }
 },
 "nbformat": 4,
 "nbformat_minor": 2
}
